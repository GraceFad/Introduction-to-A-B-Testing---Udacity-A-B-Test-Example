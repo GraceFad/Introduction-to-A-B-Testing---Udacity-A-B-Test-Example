{
  "nbformat": 4,
  "nbformat_minor": 0,
  "metadata": {
    "kernelspec": {
      "display_name": "Python 3",
      "language": "python",
      "name": "python3"
    },
    "language_info": {
      "codemirror_mode": {
        "name": "ipython",
        "version": 3
      },
      "file_extension": ".py",
      "mimetype": "text/x-python",
      "name": "python",
      "nbconvert_exporter": "python",
      "pygments_lexer": "ipython3",
      "version": "3.7.6"
    },
    "colab": {
      "name": "Udacity A/B Test.ipynb",
      "provenance": [],
      "include_colab_link": true
    }
  },
  "cells": [
    {
      "cell_type": "markdown",
      "metadata": {
        "id": "view-in-github",
        "colab_type": "text"
      },
      "source": [
        "<a href=\"https://colab.research.google.com/github/GraceFad/Introduction-to-A-B-Testing---Udacity-A-B-Test-Example/blob/main/Udacity_A_B_Test.ipynb\" target=\"_parent\"><img src=\"https://colab.research.google.com/assets/colab-badge.svg\" alt=\"Open In Colab\"/></a>"
      ]
    },
    {
      "cell_type": "markdown",
      "metadata": {
        "id": "SIOO5NyU0MCf"
      },
      "source": [
        "<div><img style=\"height: 350px;\" src=\"https://upload.wikimedia.org/wikipedia/commons/3/3b/Udacity_logo.png\" /></div>"
      ]
    },
    {
      "cell_type": "markdown",
      "metadata": {
        "id": "R4k6BQTGDB02"
      },
      "source": [
        "##Overview \n",
        "The Udacity A/B test is a split test carried out to check the introduction of  a new feature. Before the new feature, Udacity had the option for users to choose either to \"Start a free trial\" or \"Access course materials\". The new feature introduced asked the users how many hours they had to commit to the course. User who had less than 5 hours to commit per day, were automatically redirected to \"Access course materials\".\n",
        "\n",
        "Before we begin the analysis, we have to select the invariant metric and the evaluation metric. \n",
        "\n",
        "The invariant metric will be used in this case as a sanity check. The sanity check is to verify the experiment is done properly, that is, the size of the control group and the treatment group is the same, inorder to prevent creating a size bias between the two groups.\n",
        "\n",
        "The evaluation metric, is used to check the performance of the test. And in this case, we will be using the converstion rate of enrolled users to paying users. \n",
        "\n",
        "For the CTR metric, our null hypothesis is:\n",
        "\n",
        "Hnull: d = 0\n",
        "\n",
        "Halternative : d not equals 0\n",
        "\n",
        "\n",
        "For the evaluation metric:\n",
        "\n",
        "Hnull : d = 0 \n",
        "\n",
        "Halt : d > 0 \n",
        "\n",
        "where,\n",
        "\n",
        "d is the difference between the metric of the control group and the test group.\n"
      ]
    },
    {
      "cell_type": "markdown",
      "metadata": {
        "id": "Z-klGPbr0MCi"
      },
      "source": [
        "Data is available at https://docs.google.com/spreadsheets/d/1Mu5u9GrybDdska-ljPXyBjTpdZIUev_6i7t4LRDfXM8/edit#gid=0"
      ]
    },
    {
      "cell_type": "markdown",
      "metadata": {
        "id": "RhUzxzNw0MCi"
      },
      "source": [
        "---------"
      ]
    },
    {
      "cell_type": "markdown",
      "metadata": {
        "id": "WTxEcQBVeRe8"
      },
      "source": [
        "###Data Preparation"
      ]
    },
    {
      "cell_type": "code",
      "metadata": {
        "id": "TsoL0xp5ps9Y"
      },
      "source": [
        "import pandas as pd\n",
        "import numpy as np\n",
        "import seaborn as sns\n",
        "import math\n",
        "import statsmodels.stats.api as sms\n",
        "import scipy.stats as st\n"
      ],
      "execution_count": null,
      "outputs": []
    },
    {
      "cell_type": "code",
      "metadata": {
        "id": "K0u3QXDZTZPu",
        "colab": {
          "base_uri": "https://localhost:8080/",
          "height": 107
        },
        "outputId": "ef9d0d2d-d777-463f-ac8f-09f1ddccf559"
      },
      "source": [
        "#load datasets and join to form a dataset\n",
        "control = pd.read_csv('Final Project Results - Control.csv')\n",
        "control = control.dropna()\n",
        "test = pd.read_csv('Final Project Results - Experiment.csv')\n",
        "test = test.dropna()\n",
        "data = pd.merge(control,test,on= 'Date', how='inner')\n",
        "\n",
        "index = [\"Page_views\",\"Clicks\",\"Enrollments\",\"Payments\"]\n",
        "\n",
        "new_data = {\"Control\": pd.Series([data.Pageviews_x.sum(),data.Clicks_x.sum(),\n",
        "                                 data.Enrollments_x.sum(),data.Payments_x.sum()],\n",
        "                                  index = index),\n",
        "            \"Test\": pd.Series([data.Pageviews_y.sum(),data.Clicks_y.sum(),\n",
        "                                 data.Enrollments_y.sum(),data.Payments_y.sum()],\n",
        "                                  index = index)}\n",
        "\n",
        "df=pd.DataFrame(new_data)\n",
        "df.head().T"
      ],
      "execution_count": null,
      "outputs": [
        {
          "output_type": "execute_result",
          "data": {
            "text/html": [
              "<div>\n",
              "<style scoped>\n",
              "    .dataframe tbody tr th:only-of-type {\n",
              "        vertical-align: middle;\n",
              "    }\n",
              "\n",
              "    .dataframe tbody tr th {\n",
              "        vertical-align: top;\n",
              "    }\n",
              "\n",
              "    .dataframe thead th {\n",
              "        text-align: right;\n",
              "    }\n",
              "</style>\n",
              "<table border=\"1\" class=\"dataframe\">\n",
              "  <thead>\n",
              "    <tr style=\"text-align: right;\">\n",
              "      <th></th>\n",
              "      <th>Page_views</th>\n",
              "      <th>Clicks</th>\n",
              "      <th>Enrollments</th>\n",
              "      <th>Payments</th>\n",
              "    </tr>\n",
              "  </thead>\n",
              "  <tbody>\n",
              "    <tr>\n",
              "      <th>Control</th>\n",
              "      <td>212163.0</td>\n",
              "      <td>17293.0</td>\n",
              "      <td>3785.0</td>\n",
              "      <td>2033.0</td>\n",
              "    </tr>\n",
              "    <tr>\n",
              "      <th>Test</th>\n",
              "      <td>211362.0</td>\n",
              "      <td>17260.0</td>\n",
              "      <td>3423.0</td>\n",
              "      <td>1945.0</td>\n",
              "    </tr>\n",
              "  </tbody>\n",
              "</table>\n",
              "</div>"
            ],
            "text/plain": [
              "         Page_views   Clicks  Enrollments  Payments\n",
              "Control    212163.0  17293.0       3785.0    2033.0\n",
              "Test       211362.0  17260.0       3423.0    1945.0"
            ]
          },
          "metadata": {
            "tags": []
          },
          "execution_count": 3
        }
      ]
    },
    {
      "cell_type": "code",
      "metadata": {
        "id": "Mvu_FRUZqVyF"
      },
      "source": [
        "#bring out all parameters for the control and test group\n",
        "clicks_control = data.Clicks_x.sum()\n",
        "pageviews_control = data.Pageviews_x.sum()\n",
        "enrollments_control = data.Enrollments_x.sum()\n",
        "payments_control = data.Payments_x.sum()\n",
        "\n",
        "\n",
        "clicks_test = data.Clicks_y.sum()\n",
        "pageviews_test = data.Pageviews_y.sum()\n",
        "enrollments_test = data.Enrollments_y.sum()\n",
        "payments_test = data.Payments_y.sum()"
      ],
      "execution_count": null,
      "outputs": []
    },
    {
      "cell_type": "markdown",
      "metadata": {
        "id": "-g_1Lv12blvO"
      },
      "source": [
        "The control and group sample dataset had about 14 rows missing data for the enrollments and payments column. This is quite understandable as the test ran for the period of 14 days for the 14-day trial. \n",
        "\n",
        "The missing rows were dropped inorder not to affect the mean taken from the dataset. "
      ]
    },
    {
      "cell_type": "markdown",
      "metadata": {
        "id": "W2bBFi3byCAz"
      },
      "source": [
        "###Functions\n"
      ]
    },
    {
      "cell_type": "code",
      "metadata": {
        "id": "YROD6eS5Mg0t"
      },
      "source": [
        "#for z test\n",
        "def get_z_test(confidence_level,p_control, p_test, p, n_control, n_test):\n",
        "  print(\"For a confidence level of\", confidence_level,'%')\n",
        "  alpha = 1 - (confidence_level/100)\n",
        "  z_score = st.norm.ppf(1 - alpha)\n",
        "  print('The z score is', z_score)\n",
        "\n",
        "  z_value = (p_test - p_control) / math.sqrt(p * (1-p)* (1/n_control + 1/n_test))\n",
        "  print('The z value is ', z_value) \n",
        "\n",
        "  if z_value < z_score: \n",
        "    print('Do Not Reject Null')\n",
        "\n",
        "  else:\n",
        "    print('Reject Null')"
      ],
      "execution_count": null,
      "outputs": []
    },
    {
      "cell_type": "code",
      "metadata": {
        "id": "A1YXBgrdHA4D"
      },
      "source": [
        "#for t test \n",
        "from scipy import stats\n",
        "def get_t_test(confidence_level, x1, x2, s1, s2, n1, n2):\n",
        "  t_value = x1 - x2/ math.sqrt((s1/n1) + (s2/n2))\n",
        "  print(t_value)\n",
        "\n",
        "  alpha = 1 - (confidence_level/100)\n",
        "\n",
        "  if n1> n2:\n",
        "    n = n2\n",
        "    t_stat = stats.t.ppf(1-alpha,n-1)\n",
        "    print('The t statistic is ', t_stat) \n",
        "  else:\n",
        "    n = n1\n",
        "    t_stat = stats.t.ppf(1-alpha,n-1)\n",
        "    print('The t statistic is ', t_stat)\n",
        "\n",
        "  if t_value > t_stat or t_value < -t_stat: \n",
        "    print('Reject Null')\n",
        "\n",
        "  else:\n",
        "    print('Do Not Reject Null')\n",
        "\n",
        "  p1_value= stats.t.sf(np.abs(t_value), n-1)\n",
        "  print('Using the p value for comparison:', np.round(p_value,6))\n",
        "\n",
        "  if p1_value > alpha or  p1_value < -alpha:\n",
        "    print('Do Not Reject Null')\n",
        "  \n",
        "  else:\n",
        "    print('Reject Null')\n"
      ],
      "execution_count": null,
      "outputs": []
    },
    {
      "cell_type": "markdown",
      "metadata": {
        "id": "JflzIp4oE49M"
      },
      "source": [
        "###Sanity Check Using the Click Through Rate Metric."
      ]
    },
    {
      "cell_type": "code",
      "metadata": {
        "id": "3dNAfc67ZamX",
        "colab": {
          "base_uri": "https://localhost:8080/"
        },
        "outputId": "aed10fd4-07a6-4641-85f6-b72fc44c5e84"
      },
      "source": [
        "clicks_control = data.Clicks_x.sum()\n",
        "pageviews_control = data.Pageviews_x.sum()\n",
        "enrollments_control = data.Enrollments_x.sum()\n",
        "payments_control = data.Payments_x.sum()\n",
        "\n",
        "\n",
        "clicks_test = data.Clicks_y.sum()\n",
        "pageviews_test = data.Pageviews_y.sum()\n",
        "enrollments_test = data.Enrollments_y.sum()\n",
        "payments_test = data.Payments_y.sum()\n",
        "\n",
        "\n",
        "ctr_control = clicks_control/pageviews_control\n",
        "ctr_test = clicks_test/pageviews_test\n",
        "ctr_diff = ctr_control - ctr_test\n",
        "\n",
        "print(ctr_control,ctr_test)\n",
        "\n",
        "pooled_prob = (clicks_control + clicks_test) / (pageviews_control + pageviews_test)\n",
        "se_pooled_prob = math.sqrt(pooled_prob * (1- pooled_prob)* ((1/pageviews_control)+(1/pageviews_test)))\n",
        "#to check the significance of statistical difference\n",
        "\n",
        "print('For a confidence interval between',round(-1.96*se_pooled_prob, 5), \"and\", round(1.96*se_pooled_prob, 5))\n",
        "if ctr_diff > (1.96*se_pooled_prob) or ctr_diff < (-1.96*se_pooled_prob):\n",
        "  print('Reject Null')\n",
        "\n",
        "else:\n",
        "  print('Do not Reject Null')"
      ],
      "execution_count": null,
      "outputs": [
        {
          "output_type": "stream",
          "text": [
            "0.0815080857642473 0.08166084726677454\n",
            "For a confidence interval between -0.00165 and 0.00165\n",
            "Do not Reject Null\n"
          ],
          "name": "stdout"
        }
      ]
    },
    {
      "cell_type": "code",
      "metadata": {
        "colab": {
          "base_uri": "https://localhost:8080/",
          "height": 298
        },
        "id": "KgPhtt_Ryb8q",
        "outputId": "aa4eaba7-4e58-4042-e75e-c50f104e86d0"
      },
      "source": [
        "import matplotlib.pyplot as plt\n",
        "%matplotlib inline\n",
        "CIx = [(-1.96*se_pooled_prob), (1.96*se_pooled_prob)]\n",
        "CIy = [0.5,0.5]\n",
        "\n",
        "CTRx = [ctr_diff]\n",
        "CTRy= [0.5]\n",
        "\n",
        "plt.plot(CIx,CIy)\n",
        "plt.scatter(CTRx, CTRy, color = 'red')\n",
        "plt.title('Visualization of Confidence Interval')"
      ],
      "execution_count": null,
      "outputs": [
        {
          "output_type": "execute_result",
          "data": {
            "text/plain": [
              "Text(0.5, 1.0, 'Visualization of Confidence Interval')"
            ]
          },
          "metadata": {
            "tags": []
          },
          "execution_count": 9
        },
        {
          "output_type": "display_data",
          "data": {
            "image/png": "[encoded data removed]",
            "text/plain": [
              "<Figure size 432x288 with 1 Axes>"
            ]
          },
          "metadata": {
            "tags": [],
            "needs_background": "light"
          }
        }
      ]
    },
    {
      "cell_type": "markdown",
      "metadata": {
        "id": "CNq2n3m2kRpp"
      },
      "source": [
        "Our significance test shows that both experiment groups would serve the purpose.\n",
        "\n",
        "The 95% confidence interval defines a range of values that you can be 95% certain contains the population mean\n",
        "\n",
        "We are 95% confident that the difference between the click through rate of the entire population of the test and control group is between  -0.00165 and +0.00165."
      ]
    },
    {
      "cell_type": "markdown",
      "metadata": {
        "id": "sSah0gy1kgNt"
      },
      "source": [
        "###Evaluation Metric: Conversion of users that enrolled to users that paid. "
      ]
    },
    {
      "cell_type": "code",
      "metadata": {
        "colab": {
          "base_uri": "https://localhost:8080/"
        },
        "id": "LbYq1z8o2Jf7",
        "outputId": "3e6a2040-724f-43f6-fdd6-54115dea87c9"
      },
      "source": [
        "# Z test for enrolled users that converted to paying users with a 95% confidence level\n",
        "confidence_level = 95\n",
        "conv_control = df['Control']['Payments']/ df['Control']['Enrollments']\n",
        "conv_test = df['Test']['Payments']/ df['Test']['Enrollments']\n",
        "conv_prop= (df['Control']['Payments'] + df['Test']['Payments'])/ (df['Control']['Enrollments'] + df['Test']['Enrollments'])\n",
        "enrollments_control = df['Control']['Enrollments']\n",
        "enrollments_test = df['Test']['Enrollments']\n",
        "\n",
        "get_z_test(confidence_level, conv_control, conv_test, conv_prop, enrollments_control, enrollments_test)\n"
      ],
      "execution_count": null,
      "outputs": [
        {
          "output_type": "stream",
          "text": [
            "For a confidence level of 95 %\n",
            "The z score is 1.6448536269514722\n",
            "The z value is  2.65092819003226\n",
            "Reject Null\n"
          ],
          "name": "stdout"
        }
      ]
    },
    {
      "cell_type": "code",
      "metadata": {
        "colab": {
          "base_uri": "https://localhost:8080/"
        },
        "id": "pqvVbzY42oF1",
        "outputId": "e08944d4-588c-4977-f1a8-993d11d80f56"
      },
      "source": [
        "# p value for the z test\n",
        "z_value = 2.65\n",
        "z_cal=st.norm.cdf(z_value)\n",
        "p_value=(1-z_cal)*2\n",
        "\n",
        "print('For the z_score of 1.96, the p value is', p_value)"
      ],
      "execution_count": null,
      "outputs": [
        {
          "output_type": "stream",
          "text": [
            "For the z_score of 1.96, the p value is 0.008049177085516668\n"
          ],
          "name": "stdout"
        }
      ]
    },
    {
      "cell_type": "code",
      "metadata": {
        "colab": {
          "base_uri": "https://localhost:8080/"
        },
        "id": "CFJvV5bVKuyS",
        "outputId": "a99dd09d-a1f8-4fb2-907e-3f864c93cd70"
      },
      "source": [
        "# t test for enrolled users that converted to paying users with a 95% confidence level\n",
        "data = pd.merge(control,test,on= 'Date', how='inner')\n",
        "data['con_control'] = data.Payments_x/data.Enrollments_x\n",
        "data['con_test'] = data.Payments_y/data.Enrollments_y\n",
        "\n",
        "from scipy.stats import ttest_ind\n",
        "ttest_ind(data.con_control, data.con_test)"
      ],
      "execution_count": null,
      "outputs": [
        {
          "output_type": "execute_result",
          "data": {
            "text/plain": [
              "Ttest_indResult(statistic=-1.0081408912731535, pvalue=0.3188989662061842)"
            ]
          },
          "metadata": {
            "tags": []
          },
          "execution_count": 20
        }
      ]
    },
    {
      "cell_type": "markdown",
      "metadata": {
        "id": "jopQYjDWccQE"
      },
      "source": [
        "Here, there is a significant difference between the p-values of the t test and the z test, which is expected from the difference in the n values used in both tests. "
      ]
    },
    {
      "cell_type": "code",
      "metadata": {
        "colab": {
          "base_uri": "https://localhost:8080/"
        },
        "id": "KNoBD5fszA0E",
        "outputId": "81bd239b-a4d5-4881-f2cd-10787333e187"
      },
      "source": [
        "#Other way to calculate the t_test......even though it is not suitable in this regard\n",
        "data = pd.merge(control,test,on= 'Date', how='inner')\n",
        "data['con_control'] = data.Payments_x/data.Enrollments_x\n",
        "data['con_test'] = data.Payments_y/data.Enrollments_y\n",
        "\n",
        "x1 = data.con_control.mean()\n",
        "x2 = data.con_test.mean()\n",
        "\n",
        "n1 = data.con_control.count()\n",
        "n2 = data.con_test.count()\n",
        "\n",
        "s1 = data.con_control.std()\n",
        "s2 = data.con_test.std()\n",
        "\n",
        "get_t_test(90, x1,x2,s1,s2,n1,n2)"
      ],
      "execution_count": null,
      "outputs": [
        {
          "output_type": "stream",
          "text": [
            "-5.296244866328485\n",
            "The t statistic is  1.3212367416133617\n",
            "Reject Null\n",
            "Using the p value for comparison: 0.008049\n",
            "Reject Null\n"
          ],
          "name": "stdout"
        }
      ]
    },
    {
      "cell_type": "markdown",
      "metadata": {
        "id": "GISQE1Npt6dT"
      },
      "source": [
        "The p-value is not greater than the alpha value, 0.05 for the t test, hence we Reject Null hypothesis."
      ]
    },
    {
      "cell_type": "markdown",
      "metadata": {
        "id": "IkPQKmKCyprD"
      },
      "source": [
        "###Conclusion\n",
        "From the result of the hypothesis test of both test and control group, it is safe to say that we REJECT the null hypothesis that states there is no difference between the rate of users that enrolled and converted to paying users for the test group and the control group. \n"
      ]
    }
  ]
}